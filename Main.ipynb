{
  "nbformat": 4,
  "nbformat_minor": 0,
  "metadata": {
    "colab": {
      "name": "test_descartes_underwriting.ipynb",
      "provenance": [],
      "collapsed_sections": [],
      "authorship_tag": "ABX9TyN6na0RDEzA/f8INlQ4kNB5",
      "include_colab_link": true
    },
    "kernelspec": {
      "name": "python3",
      "display_name": "Python 3"
    }
  },
  "cells": [
    {
      "cell_type": "markdown",
      "metadata": {
        "id": "view-in-github",
        "colab_type": "text"
      },
      "source": [
        "<a href=\"https://colab.research.google.com/github/floriancal/test_descartes_underwriting/blob/main/test_descartes_underwriting.ipynb\" target=\"_parent\"><img src=\"https://colab.research.google.com/assets/colab-badge.svg\" alt=\"Open In Colab\"/></a>"
      ]
    },
    {
      "cell_type": "markdown",
      "metadata": {
        "id": "_sw8wkiVTMdJ"
      },
      "source": [
        "# Binary classification on auto-insurance Dataset\r\n",
        "The aim of this notebook is to present my work on the given task.\r\n"
      ]
    },
    {
      "cell_type": "code",
      "metadata": {
        "colab": {
          "base_uri": "https://localhost:8080/"
        },
        "id": "R-oryqbS-pYi",
        "outputId": "71596d9d-54fe-4d6c-aa95-7abb9133e664"
      },
      "source": [
        "# Mount my Drive to get the files\r\n",
        "from __future__ import print_function\r\n",
        "from google.colab import drive\r\n",
        "drive.mount('/content/drive', force_remount=True)\r\n",
        "!ls \"/content/drive/My Drive/test_descartes\""
      ],
      "execution_count": 4,
      "outputs": [
        {
          "output_type": "stream",
          "text": [
            "Mounted at /content/drive\n",
            "MEAN_AUTO.csv  predictions.csv\tSHELL_AUTO.csv\ttest_auto.csv  train_auto.csv\n"
          ],
          "name": "stdout"
        }
      ]
    },
    {
      "cell_type": "code",
      "metadata": {
        "id": "DOge2SJ27_fv"
      },
      "source": [
        "# Module imports\r\n",
        "import pandas as pd\r\n",
        "import numpy as np\r\n",
        "from sklearn.impute import SimpleImputer\r\n",
        "import missingno as msno\r\n",
        "import seaborn as sns\r\n",
        "import matplotlib.pyplot as plt\r\n",
        "from sklearn.preprocessing import OrdinalEncoder\r\n",
        "from sklearn.preprocessing import OneHotEncoder\r\n",
        "from sklearn.compose import make_column_transformer\r\n",
        "import imblearn\r\n",
        "from imblearn.over_sampling import RandomOverSampler\r\n",
        "from imblearn.pipeline import Pipeline, make_pipeline\r\n",
        "from sklearn.model_selection import KFold\r\n",
        "from imblearn.over_sampling import SMOTE\r\n",
        "from sklearn.preprocessing import Normalizer\r\n",
        "from sklearn.linear_model import LogisticRegression\r\n",
        "from sklearn.tree import DecisionTreeClassifier\r\n",
        "from sklearn.svm import SVC\r\n",
        "from sklearn.ensemble import RandomForestClassifier\r\n",
        "from sklearn.discriminant_analysis import LinearDiscriminantAnalysis\r\n",
        "from sklearn.discriminant_analysis import  QuadraticDiscriminantAnalysis\r\n",
        "from sklearn.cluster import KMeans\r\n",
        "from sklearn.neighbors import KNeighborsClassifier\r\n",
        "from sklearn.naive_bayes import GaussianNB\r\n",
        "from sklearn.ensemble import GradientBoostingClassifier\r\n",
        "from sklearn.model_selection import cross_validate\r\n",
        "from sklearn.model_selection import GridSearchCV"
      ],
      "execution_count": null,
      "outputs": []
    },
    {
      "cell_type": "code",
      "metadata": {
        "id": "2QBIPH8G8WPH"
      },
      "source": [
        "# Read Test and train files\r\n",
        "test_dataset = pd.read_csv('/content/drive/My Drive/test_descartes/test_auto.csv')\r\n",
        "train_dataset = pd.read_csv('/content/drive/My Drive/test_descartes/train_auto.csv')"
      ],
      "execution_count": 13,
      "outputs": []
    },
    {
      "cell_type": "markdown",
      "metadata": {
        "id": "N7NXe4MxUaR3"
      },
      "source": [
        "# Dataset pre-process\r\n",
        "The aim of this section is to take a first look at the data and prepare it for the different analysis."
      ]
    },
    {
      "cell_type": "code",
      "metadata": {
        "colab": {
          "base_uri": "https://localhost:8080/",
          "height": 383
        },
        "id": "5LQETfVk_Fdd",
        "outputId": "d6ff144c-4ec9-4464-ab4b-c5e46c0cabf0"
      },
      "source": [
        "# Quick Dataset visualization\r\n",
        "train_dataset.head()"
      ],
      "execution_count": 14,
      "outputs": [
        {
          "output_type": "execute_result",
          "data": {
            "text/html": [
              "<div>\n",
              "<style scoped>\n",
              "    .dataframe tbody tr th:only-of-type {\n",
              "        vertical-align: middle;\n",
              "    }\n",
              "\n",
              "    .dataframe tbody tr th {\n",
              "        vertical-align: top;\n",
              "    }\n",
              "\n",
              "    .dataframe thead th {\n",
              "        text-align: right;\n",
              "    }\n",
              "</style>\n",
              "<table border=\"1\" class=\"dataframe\">\n",
              "  <thead>\n",
              "    <tr style=\"text-align: right;\">\n",
              "      <th></th>\n",
              "      <th>INDEX</th>\n",
              "      <th>TARGET_FLAG</th>\n",
              "      <th>TARGET_AMT</th>\n",
              "      <th>KIDSDRIV</th>\n",
              "      <th>AGE</th>\n",
              "      <th>HOMEKIDS</th>\n",
              "      <th>YOJ</th>\n",
              "      <th>INCOME</th>\n",
              "      <th>PARENT1</th>\n",
              "      <th>HOME_VAL</th>\n",
              "      <th>MSTATUS</th>\n",
              "      <th>SEX</th>\n",
              "      <th>EDUCATION</th>\n",
              "      <th>JOB</th>\n",
              "      <th>TRAVTIME</th>\n",
              "      <th>CAR_USE</th>\n",
              "      <th>BLUEBOOK</th>\n",
              "      <th>TIF</th>\n",
              "      <th>CAR_TYPE</th>\n",
              "      <th>RED_CAR</th>\n",
              "      <th>OLDCLAIM</th>\n",
              "      <th>CLM_FREQ</th>\n",
              "      <th>REVOKED</th>\n",
              "      <th>MVR_PTS</th>\n",
              "      <th>CAR_AGE</th>\n",
              "      <th>URBANICITY</th>\n",
              "    </tr>\n",
              "  </thead>\n",
              "  <tbody>\n",
              "    <tr>\n",
              "      <th>0</th>\n",
              "      <td>1</td>\n",
              "      <td>0</td>\n",
              "      <td>0.0</td>\n",
              "      <td>0</td>\n",
              "      <td>60.0</td>\n",
              "      <td>0</td>\n",
              "      <td>11.0</td>\n",
              "      <td>$67,349</td>\n",
              "      <td>No</td>\n",
              "      <td>$0</td>\n",
              "      <td>z_No</td>\n",
              "      <td>M</td>\n",
              "      <td>PhD</td>\n",
              "      <td>Professional</td>\n",
              "      <td>14</td>\n",
              "      <td>Private</td>\n",
              "      <td>$14,230</td>\n",
              "      <td>11</td>\n",
              "      <td>Minivan</td>\n",
              "      <td>yes</td>\n",
              "      <td>$4,461</td>\n",
              "      <td>2</td>\n",
              "      <td>No</td>\n",
              "      <td>3</td>\n",
              "      <td>18.0</td>\n",
              "      <td>Highly Urban/ Urban</td>\n",
              "    </tr>\n",
              "    <tr>\n",
              "      <th>1</th>\n",
              "      <td>2</td>\n",
              "      <td>0</td>\n",
              "      <td>0.0</td>\n",
              "      <td>0</td>\n",
              "      <td>43.0</td>\n",
              "      <td>0</td>\n",
              "      <td>11.0</td>\n",
              "      <td>$91,449</td>\n",
              "      <td>No</td>\n",
              "      <td>$257,252</td>\n",
              "      <td>z_No</td>\n",
              "      <td>M</td>\n",
              "      <td>z_High School</td>\n",
              "      <td>z_Blue Collar</td>\n",
              "      <td>22</td>\n",
              "      <td>Commercial</td>\n",
              "      <td>$14,940</td>\n",
              "      <td>1</td>\n",
              "      <td>Minivan</td>\n",
              "      <td>yes</td>\n",
              "      <td>$0</td>\n",
              "      <td>0</td>\n",
              "      <td>No</td>\n",
              "      <td>0</td>\n",
              "      <td>1.0</td>\n",
              "      <td>Highly Urban/ Urban</td>\n",
              "    </tr>\n",
              "    <tr>\n",
              "      <th>2</th>\n",
              "      <td>4</td>\n",
              "      <td>0</td>\n",
              "      <td>0.0</td>\n",
              "      <td>0</td>\n",
              "      <td>35.0</td>\n",
              "      <td>1</td>\n",
              "      <td>10.0</td>\n",
              "      <td>$16,039</td>\n",
              "      <td>No</td>\n",
              "      <td>$124,191</td>\n",
              "      <td>Yes</td>\n",
              "      <td>z_F</td>\n",
              "      <td>z_High School</td>\n",
              "      <td>Clerical</td>\n",
              "      <td>5</td>\n",
              "      <td>Private</td>\n",
              "      <td>$4,010</td>\n",
              "      <td>4</td>\n",
              "      <td>z_SUV</td>\n",
              "      <td>no</td>\n",
              "      <td>$38,690</td>\n",
              "      <td>2</td>\n",
              "      <td>No</td>\n",
              "      <td>3</td>\n",
              "      <td>10.0</td>\n",
              "      <td>Highly Urban/ Urban</td>\n",
              "    </tr>\n",
              "    <tr>\n",
              "      <th>3</th>\n",
              "      <td>5</td>\n",
              "      <td>0</td>\n",
              "      <td>0.0</td>\n",
              "      <td>0</td>\n",
              "      <td>51.0</td>\n",
              "      <td>0</td>\n",
              "      <td>14.0</td>\n",
              "      <td>NaN</td>\n",
              "      <td>No</td>\n",
              "      <td>$306,251</td>\n",
              "      <td>Yes</td>\n",
              "      <td>M</td>\n",
              "      <td>&lt;High School</td>\n",
              "      <td>z_Blue Collar</td>\n",
              "      <td>32</td>\n",
              "      <td>Private</td>\n",
              "      <td>$15,440</td>\n",
              "      <td>7</td>\n",
              "      <td>Minivan</td>\n",
              "      <td>yes</td>\n",
              "      <td>$0</td>\n",
              "      <td>0</td>\n",
              "      <td>No</td>\n",
              "      <td>0</td>\n",
              "      <td>6.0</td>\n",
              "      <td>Highly Urban/ Urban</td>\n",
              "    </tr>\n",
              "    <tr>\n",
              "      <th>4</th>\n",
              "      <td>6</td>\n",
              "      <td>0</td>\n",
              "      <td>0.0</td>\n",
              "      <td>0</td>\n",
              "      <td>50.0</td>\n",
              "      <td>0</td>\n",
              "      <td>NaN</td>\n",
              "      <td>$114,986</td>\n",
              "      <td>No</td>\n",
              "      <td>$243,925</td>\n",
              "      <td>Yes</td>\n",
              "      <td>z_F</td>\n",
              "      <td>PhD</td>\n",
              "      <td>Doctor</td>\n",
              "      <td>36</td>\n",
              "      <td>Private</td>\n",
              "      <td>$18,000</td>\n",
              "      <td>1</td>\n",
              "      <td>z_SUV</td>\n",
              "      <td>no</td>\n",
              "      <td>$19,217</td>\n",
              "      <td>2</td>\n",
              "      <td>Yes</td>\n",
              "      <td>3</td>\n",
              "      <td>17.0</td>\n",
              "      <td>Highly Urban/ Urban</td>\n",
              "    </tr>\n",
              "  </tbody>\n",
              "</table>\n",
              "</div>"
            ],
            "text/plain": [
              "   INDEX  TARGET_FLAG  TARGET_AMT  ...  MVR_PTS  CAR_AGE           URBANICITY\n",
              "0      1            0         0.0  ...        3     18.0  Highly Urban/ Urban\n",
              "1      2            0         0.0  ...        0      1.0  Highly Urban/ Urban\n",
              "2      4            0         0.0  ...        3     10.0  Highly Urban/ Urban\n",
              "3      5            0         0.0  ...        0      6.0  Highly Urban/ Urban\n",
              "4      6            0         0.0  ...        3     17.0  Highly Urban/ Urban\n",
              "\n",
              "[5 rows x 26 columns]"
            ]
          },
          "metadata": {
            "tags": []
          },
          "execution_count": 14
        }
      ]
    },
    {
      "cell_type": "code",
      "metadata": {
        "colab": {
          "base_uri": "https://localhost:8080/",
          "height": 383
        },
        "id": "escwVKtFAKn-",
        "outputId": "6d7daab1-de56-40d6-dbab-a6296fe423d7"
      },
      "source": [
        "# Pre-Processing\r\n",
        "# Remove index column  \r\n",
        "train_dataset.drop(train_dataset.columns[0], axis=1, inplace=True)\r\n",
        "test_dataset.drop(test_dataset.columns[0], axis=1, inplace=True)\r\n",
        "\r\n",
        "# Remove TARGET_AMT, I suppose here that this is not a feature but another \r\n",
        "# target not mentionned on the exercise and probably must not be used for \r\n",
        "# predictions\r\n",
        "train_dataset.drop(train_dataset.columns[1], axis=1, inplace=True)\r\n",
        "test_dataset.drop(test_dataset.columns[1], axis=1, inplace=True)\r\n",
        "\r\n",
        "train_dataset.head()"
      ],
      "execution_count": 15,
      "outputs": [
        {
          "output_type": "execute_result",
          "data": {
            "text/html": [
              "<div>\n",
              "<style scoped>\n",
              "    .dataframe tbody tr th:only-of-type {\n",
              "        vertical-align: middle;\n",
              "    }\n",
              "\n",
              "    .dataframe tbody tr th {\n",
              "        vertical-align: top;\n",
              "    }\n",
              "\n",
              "    .dataframe thead th {\n",
              "        text-align: right;\n",
              "    }\n",
              "</style>\n",
              "<table border=\"1\" class=\"dataframe\">\n",
              "  <thead>\n",
              "    <tr style=\"text-align: right;\">\n",
              "      <th></th>\n",
              "      <th>TARGET_FLAG</th>\n",
              "      <th>KIDSDRIV</th>\n",
              "      <th>AGE</th>\n",
              "      <th>HOMEKIDS</th>\n",
              "      <th>YOJ</th>\n",
              "      <th>INCOME</th>\n",
              "      <th>PARENT1</th>\n",
              "      <th>HOME_VAL</th>\n",
              "      <th>MSTATUS</th>\n",
              "      <th>SEX</th>\n",
              "      <th>EDUCATION</th>\n",
              "      <th>JOB</th>\n",
              "      <th>TRAVTIME</th>\n",
              "      <th>CAR_USE</th>\n",
              "      <th>BLUEBOOK</th>\n",
              "      <th>TIF</th>\n",
              "      <th>CAR_TYPE</th>\n",
              "      <th>RED_CAR</th>\n",
              "      <th>OLDCLAIM</th>\n",
              "      <th>CLM_FREQ</th>\n",
              "      <th>REVOKED</th>\n",
              "      <th>MVR_PTS</th>\n",
              "      <th>CAR_AGE</th>\n",
              "      <th>URBANICITY</th>\n",
              "    </tr>\n",
              "  </thead>\n",
              "  <tbody>\n",
              "    <tr>\n",
              "      <th>0</th>\n",
              "      <td>0</td>\n",
              "      <td>0</td>\n",
              "      <td>60.0</td>\n",
              "      <td>0</td>\n",
              "      <td>11.0</td>\n",
              "      <td>$67,349</td>\n",
              "      <td>No</td>\n",
              "      <td>$0</td>\n",
              "      <td>z_No</td>\n",
              "      <td>M</td>\n",
              "      <td>PhD</td>\n",
              "      <td>Professional</td>\n",
              "      <td>14</td>\n",
              "      <td>Private</td>\n",
              "      <td>$14,230</td>\n",
              "      <td>11</td>\n",
              "      <td>Minivan</td>\n",
              "      <td>yes</td>\n",
              "      <td>$4,461</td>\n",
              "      <td>2</td>\n",
              "      <td>No</td>\n",
              "      <td>3</td>\n",
              "      <td>18.0</td>\n",
              "      <td>Highly Urban/ Urban</td>\n",
              "    </tr>\n",
              "    <tr>\n",
              "      <th>1</th>\n",
              "      <td>0</td>\n",
              "      <td>0</td>\n",
              "      <td>43.0</td>\n",
              "      <td>0</td>\n",
              "      <td>11.0</td>\n",
              "      <td>$91,449</td>\n",
              "      <td>No</td>\n",
              "      <td>$257,252</td>\n",
              "      <td>z_No</td>\n",
              "      <td>M</td>\n",
              "      <td>z_High School</td>\n",
              "      <td>z_Blue Collar</td>\n",
              "      <td>22</td>\n",
              "      <td>Commercial</td>\n",
              "      <td>$14,940</td>\n",
              "      <td>1</td>\n",
              "      <td>Minivan</td>\n",
              "      <td>yes</td>\n",
              "      <td>$0</td>\n",
              "      <td>0</td>\n",
              "      <td>No</td>\n",
              "      <td>0</td>\n",
              "      <td>1.0</td>\n",
              "      <td>Highly Urban/ Urban</td>\n",
              "    </tr>\n",
              "    <tr>\n",
              "      <th>2</th>\n",
              "      <td>0</td>\n",
              "      <td>0</td>\n",
              "      <td>35.0</td>\n",
              "      <td>1</td>\n",
              "      <td>10.0</td>\n",
              "      <td>$16,039</td>\n",
              "      <td>No</td>\n",
              "      <td>$124,191</td>\n",
              "      <td>Yes</td>\n",
              "      <td>z_F</td>\n",
              "      <td>z_High School</td>\n",
              "      <td>Clerical</td>\n",
              "      <td>5</td>\n",
              "      <td>Private</td>\n",
              "      <td>$4,010</td>\n",
              "      <td>4</td>\n",
              "      <td>z_SUV</td>\n",
              "      <td>no</td>\n",
              "      <td>$38,690</td>\n",
              "      <td>2</td>\n",
              "      <td>No</td>\n",
              "      <td>3</td>\n",
              "      <td>10.0</td>\n",
              "      <td>Highly Urban/ Urban</td>\n",
              "    </tr>\n",
              "    <tr>\n",
              "      <th>3</th>\n",
              "      <td>0</td>\n",
              "      <td>0</td>\n",
              "      <td>51.0</td>\n",
              "      <td>0</td>\n",
              "      <td>14.0</td>\n",
              "      <td>NaN</td>\n",
              "      <td>No</td>\n",
              "      <td>$306,251</td>\n",
              "      <td>Yes</td>\n",
              "      <td>M</td>\n",
              "      <td>&lt;High School</td>\n",
              "      <td>z_Blue Collar</td>\n",
              "      <td>32</td>\n",
              "      <td>Private</td>\n",
              "      <td>$15,440</td>\n",
              "      <td>7</td>\n",
              "      <td>Minivan</td>\n",
              "      <td>yes</td>\n",
              "      <td>$0</td>\n",
              "      <td>0</td>\n",
              "      <td>No</td>\n",
              "      <td>0</td>\n",
              "      <td>6.0</td>\n",
              "      <td>Highly Urban/ Urban</td>\n",
              "    </tr>\n",
              "    <tr>\n",
              "      <th>4</th>\n",
              "      <td>0</td>\n",
              "      <td>0</td>\n",
              "      <td>50.0</td>\n",
              "      <td>0</td>\n",
              "      <td>NaN</td>\n",
              "      <td>$114,986</td>\n",
              "      <td>No</td>\n",
              "      <td>$243,925</td>\n",
              "      <td>Yes</td>\n",
              "      <td>z_F</td>\n",
              "      <td>PhD</td>\n",
              "      <td>Doctor</td>\n",
              "      <td>36</td>\n",
              "      <td>Private</td>\n",
              "      <td>$18,000</td>\n",
              "      <td>1</td>\n",
              "      <td>z_SUV</td>\n",
              "      <td>no</td>\n",
              "      <td>$19,217</td>\n",
              "      <td>2</td>\n",
              "      <td>Yes</td>\n",
              "      <td>3</td>\n",
              "      <td>17.0</td>\n",
              "      <td>Highly Urban/ Urban</td>\n",
              "    </tr>\n",
              "  </tbody>\n",
              "</table>\n",
              "</div>"
            ],
            "text/plain": [
              "   TARGET_FLAG  KIDSDRIV   AGE  ...  MVR_PTS  CAR_AGE           URBANICITY\n",
              "0            0         0  60.0  ...        3     18.0  Highly Urban/ Urban\n",
              "1            0         0  43.0  ...        0      1.0  Highly Urban/ Urban\n",
              "2            0         0  35.0  ...        3     10.0  Highly Urban/ Urban\n",
              "3            0         0  51.0  ...        0      6.0  Highly Urban/ Urban\n",
              "4            0         0  50.0  ...        3     17.0  Highly Urban/ Urban\n",
              "\n",
              "[5 rows x 24 columns]"
            ]
          },
          "metadata": {
            "tags": []
          },
          "execution_count": 15
        }
      ]
    },
    {
      "cell_type": "code",
      "metadata": {
        "colab": {
          "base_uri": "https://localhost:8080/"
        },
        "id": "677VKaRsIJYB",
        "outputId": "685b27c1-30e6-4198-c69a-36446a1a4683"
      },
      "source": [
        "# Check for missing values in each columns\r\n",
        "col_labels = ['KIDSDRIV','AGE', 'HOMEKIDS', 'YOJ', 'INCOME', 'PARENT1',\r\n",
        "  'HOME_VAL', 'MSTATUS', 'SEX', 'EDUCATION', 'JOB', 'TRAVTIME', 'CAR_USE', \r\n",
        "  'BLUEBOOK', 'TIF', 'CAR_TYPE', 'RED_CAR', 'OLDCLAIM', 'CLM_FREQ', 'REVOKED', \r\n",
        "  'MVR_PTS', 'CAR_AGE', 'URBANICITY']\r\n",
        "\r\n",
        "for c in col_labels:\r\n",
        "  no_missing = train_dataset[c].isnull().sum()\r\n",
        "  if no_missing > 0:\r\n",
        "      print(c)\r\n",
        "      print(no_missing)\r\n",
        "  else:\r\n",
        "      print(c)\r\n",
        "      print(\"No missing values\")\r\n",
        "      print(' ')\r\n",
        "\r\n",
        "# If we drop every lines with missing values count how much line shall be \r\n",
        "# dropped\r\n",
        "i = 0\r\n",
        "for line in range(train_dataset.shape[0]):\r\n",
        "  for c in col_labels:\r\n",
        "     missing_val = pd.isnull(train_dataset[c][line])\r\n",
        "     if missing_val is True:\r\n",
        "       i += 1\r\n",
        "fraction_lost = i / train_dataset.shape[0]\r\n",
        "print('Total lines with missing value over total lines (%) : ',\r\n",
        "      fraction_lost * 100)"
      ],
      "execution_count": 16,
      "outputs": [
        {
          "output_type": "stream",
          "text": [
            "KIDSDRIV\n",
            "No missing values\n",
            " \n",
            "AGE\n",
            "6\n",
            "HOMEKIDS\n",
            "No missing values\n",
            " \n",
            "YOJ\n",
            "454\n",
            "INCOME\n",
            "445\n",
            "PARENT1\n",
            "No missing values\n",
            " \n",
            "HOME_VAL\n",
            "464\n",
            "MSTATUS\n",
            "No missing values\n",
            " \n",
            "SEX\n",
            "No missing values\n",
            " \n",
            "EDUCATION\n",
            "No missing values\n",
            " \n",
            "JOB\n",
            "526\n",
            "TRAVTIME\n",
            "No missing values\n",
            " \n",
            "CAR_USE\n",
            "No missing values\n",
            " \n",
            "BLUEBOOK\n",
            "No missing values\n",
            " \n",
            "TIF\n",
            "No missing values\n",
            " \n",
            "CAR_TYPE\n",
            "No missing values\n",
            " \n",
            "RED_CAR\n",
            "No missing values\n",
            " \n",
            "OLDCLAIM\n",
            "No missing values\n",
            " \n",
            "CLM_FREQ\n",
            "No missing values\n",
            " \n",
            "REVOKED\n",
            "No missing values\n",
            " \n",
            "MVR_PTS\n",
            "No missing values\n",
            " \n",
            "CAR_AGE\n",
            "510\n",
            "URBANICITY\n",
            "No missing values\n",
            " \n",
            "Total lines with missing value over total lines (%) :  29.46942776620512\n"
          ],
          "name": "stdout"
        }
      ]
    },
    {
      "cell_type": "code",
      "metadata": {
        "id": "WXYI-CCiQbL_"
      },
      "source": [
        "# Util function\r\n",
        "def map_dollar_to_float(x):\r\n",
        "  \"\"\"Convert an input string of the format $xx,xx to a float of value xx.xx\r\n",
        "  if x is a float do nothing and return x\r\n",
        "  \"\"\"\r\n",
        "  if type(x) == str:  \r\n",
        "    x = x.lstrip('$')\r\n",
        "    x = x.replace(',', '.')\r\n",
        "    x = float(x)\r\n",
        "  return x"
      ],
      "execution_count": 17,
      "outputs": []
    },
    {
      "cell_type": "markdown",
      "metadata": {
        "id": "2laeoEPRV606"
      },
      "source": [
        "30% of lines have at least one missing value, if we choose to drop each lines with missing values we will lose a lot of data, then we will impute each line with missing values in the next script."
      ]
    },
    {
      "cell_type": "code",
      "metadata": {
        "id": "ffq9ZyOIPRCA"
      },
      "source": [
        "# 30% is a lot so we choose an imputing strategy for each line with missing \r\n",
        "# value(s)\r\n",
        "\r\n",
        "# For numerical data we choose mean strategy\r\n",
        "# For the test set we use transform and not fit cause it will result in a leak\r\n",
        "imputer = SimpleImputer(missing_values=np.nan, strategy='mean')\r\n",
        "train_dataset[['AGE']] = imputer.fit_transform(train_dataset[['AGE']])\r\n",
        "test_dataset[['AGE']] = imputer.transform(test_dataset[['AGE']])\r\n",
        "\r\n",
        "# For numerical data we choose mean strategy\r\n",
        "imputer = SimpleImputer(missing_values=np.nan, strategy='mean')\r\n",
        "train_dataset[['YOJ']] = imputer.fit_transform(train_dataset[['YOJ']])\r\n",
        "test_dataset[['YOJ']] = imputer.transform(test_dataset[['YOJ']])\r\n",
        "\r\n",
        "# Dollar string in dataset are actually numerical values so we convert to float\r\n",
        "train_dataset['INCOME'] = train_dataset['INCOME'].map(map_dollar_to_float)\r\n",
        "train_dataset['HOME_VAL'] = train_dataset['HOME_VAL'].map(map_dollar_to_float)\r\n",
        "\r\n",
        "test_dataset['INCOME'] = test_dataset['INCOME'].map(map_dollar_to_float)\r\n",
        "test_dataset['HOME_VAL'] = test_dataset['HOME_VAL'].map(map_dollar_to_float)\r\n",
        "\r\n",
        "# Some features have no missing values but are numerical dollar so we map them \r\n",
        "train_dataset['BLUEBOOK'] = train_dataset['BLUEBOOK'].map(map_dollar_to_float)\r\n",
        "train_dataset['OLDCLAIM'] = train_dataset['OLDCLAIM'].map(map_dollar_to_float)\r\n",
        "\r\n",
        "test_dataset['BLUEBOOK'] = test_dataset['BLUEBOOK'].map(map_dollar_to_float)\r\n",
        "test_dataset['OLDCLAIM'] = test_dataset['OLDCLAIM'].map(map_dollar_to_float)\r\n",
        "\r\n",
        "# Then we can impute with mean strategy again\r\n",
        "imputer = SimpleImputer(missing_values=np.nan, strategy='mean')\r\n",
        "train_dataset[['INCOME']] = imputer.fit_transform(train_dataset[['INCOME']])\r\n",
        "test_dataset[['INCOME']] = imputer.transform(test_dataset[['INCOME']])\r\n",
        "\r\n",
        "imputer = SimpleImputer(missing_values=np.nan, strategy='mean')\r\n",
        "train_dataset[['HOME_VAL']] = imputer.fit_transform(train_dataset[['HOME_VAL']])\r\n",
        "test_dataset[['HOME_VAL']] = imputer.transform(test_dataset[['HOME_VAL']])\r\n",
        "\r\n",
        "# Job is nominal data so we impute it with most frequent mode\r\n",
        "imputer = SimpleImputer(missing_values=np.nan, strategy='most_frequent')\r\n",
        "train_dataset[['JOB']] = imputer.fit_transform(train_dataset[['JOB']])\r\n",
        "test_dataset[['JOB']] = imputer.transform(test_dataset[['JOB']])\r\n",
        "\r\n",
        "# Car Age is imputed with mean strategy\r\n",
        "imputer = SimpleImputer(missing_values=np.nan, strategy='mean')\r\n",
        "train_dataset[['CAR_AGE']] = imputer.fit_transform(train_dataset[['CAR_AGE']])\r\n",
        "test_dataset[['CAR_AGE']] = imputer.transform(test_dataset[['CAR_AGE']])"
      ],
      "execution_count": 18,
      "outputs": []
    },
    {
      "cell_type": "code",
      "metadata": {
        "colab": {
          "base_uri": "https://localhost:8080/",
          "height": 1000
        },
        "id": "A3k-OBH1ezeG",
        "outputId": "b0426e7f-457b-47bd-adfb-dc416b25fefc"
      },
      "source": [
        "# Check that data has no missing values anymore\r\n",
        "msno.matrix(train_dataset)\r\n",
        "msno.matrix(test_dataset)"
      ],
      "execution_count": 19,
      "outputs": [
        {
          "output_type": "execute_result",
          "data": {
            "text/plain": [
              "<matplotlib.axes._subplots.AxesSubplot at 0x7f2dd7b197b8>"
            ]
          },
          "metadata": {
            "tags": []
          },
          "execution_count": 19
        },
        {
          "output_type": "display_data",
          "data": {
            "image/png": "[encoded data removed]",
            "text/plain": [
              "<Figure size 1800x720 with 2 Axes>"
            ]
          },
          "metadata": {
            "tags": [],
            "needs_background": "light"
          }
        },
        {
          "output_type": "display_data",
          "data": {
            "image/png": "[encoded data removed]",
            "text/plain": [
              "<Figure size 1800x720 with 2 Axes>"
            ]
          },
          "metadata": {
            "tags": [],
            "needs_background": "light"
          }
        }
      ]
    },
    {
      "cell_type": "markdown",
      "metadata": {
        "id": "7tbB2lhTWmgZ"
      },
      "source": [
        "We choose mean imputing strategy by default for numerical values, however if the data is very dispersed, then median strategy might be a better choice. \r\n",
        "\r\n",
        "The next script aims to look closer at the data to check for this.\r\n",
        "\r\n",
        "Finally, we left mean strategy (mean and median being close each time)."
      ]
    },
    {
      "cell_type": "code",
      "metadata": {
        "colab": {
          "base_uri": "https://localhost:8080/"
        },
        "id": "_S0pg0FEOwF8",
        "outputId": "ce1c468a-3362-4454-d586-38d507eb5e9d"
      },
      "source": [
        "# Compute some stat data to see if some of them seems very dispersed \r\n",
        "# and could lead us to chose median strategy for some imputings\r\n",
        "\r\n",
        "# It seems ok so we stay on mean\r\n",
        "print(np.sqrt(np.var(train_dataset['AGE']))) # STD\r\n",
        "print(np.max(train_dataset['AGE'])) # MAX\r\n",
        "print(np.min(train_dataset['AGE'])) # MIN\r\n",
        "print(np.mean(train_dataset['AGE'])) # MEAN\r\n",
        "print(np.median(train_dataset['AGE'])) # MEDIAN\r\n",
        "\r\n",
        "print(np.sqrt(np.var(train_dataset['YOJ'])))\r\n",
        "print(np.max(train_dataset['YOJ']))\r\n",
        "print(np.min(train_dataset['YOJ']))\r\n",
        "print(np.mean(train_dataset['YOJ']))\r\n",
        "print(np.median(train_dataset['YOJ']))\r\n",
        "\r\n",
        "print(np.sqrt(np.var(train_dataset['INCOME'])))\r\n",
        "print(np.max(train_dataset['INCOME']))\r\n",
        "print(np.min(train_dataset['INCOME']))\r\n",
        "print(np.mean(train_dataset['INCOME']))\r\n",
        "print(np.median(train_dataset['INCOME']))\r\n",
        "\r\n",
        "print(np.sqrt(np.var(train_dataset['CAR_AGE'])))\r\n",
        "print(np.max(train_dataset['CAR_AGE']))\r\n",
        "print(np.min(train_dataset['CAR_AGE']))# car age of -3 is present in the data????\r\n",
        "print(np.mean(train_dataset['CAR_AGE']))\r\n",
        "print(np.median(train_dataset['CAR_AGE']))"
      ],
      "execution_count": 20,
      "outputs": [
        {
          "output_type": "stream",
          "text": [
            "8.623888556185706\n",
            "81.0\n",
            "16.0\n",
            "44.79031269160024\n",
            "45.0\n",
            "3.976754322149013\n",
            "23.0\n",
            "0.0\n",
            "10.499286363046595\n",
            "11.0\n",
            "59.08461726345284\n",
            "997.0\n",
            "0.0\n",
            "64.75785510627242\n",
            "57.912\n",
            "5.519381945456724\n",
            "28.0\n",
            "-3.0\n",
            "8.328323095020215\n",
            "8.32832309502026\n"
          ],
          "name": "stdout"
        }
      ]
    },
    {
      "cell_type": "markdown",
      "metadata": {
        "id": "FebTV6-fXOzG"
      },
      "source": [
        "The previous script shown a min car age of -3 which seems impossible."
      ]
    },
    {
      "cell_type": "code",
      "metadata": {
        "id": "jcbXxYlnS-aq"
      },
      "source": [
        "# Car age of -3 seems like a corrupted data not knowing more on the dataset\r\n",
        "# We check how many times a negative car age is present in the dataset\r\n",
        "\r\n",
        "# Happens once in train dataset\r\n",
        "print(len(train_dataset[(train_dataset['CAR_AGE']<0)]))\r\n",
        "\r\n",
        "# Happens zero times in test dataset\r\n",
        "print(len(test_dataset[(train_dataset['CAR_AGE']<0)]))\r\n",
        "\r\n",
        "# So i chosed simply to drop the line\r\n",
        "train_dataset = train_dataset.drop(train_dataset[train_dataset.CAR_AGE < 0].index)"
      ],
      "execution_count": null,
      "outputs": []
    },
    {
      "cell_type": "code",
      "metadata": {
        "id": "vVdRa7jZZ6zx"
      },
      "source": [
        "# We can now divide the datasets into features and target (X and y)\r\n",
        "X_train_frame = train_dataset[['KIDSDRIV','AGE', 'HOMEKIDS', 'YOJ', 'INCOME',\r\n",
        "  'PARENT1', 'HOME_VAL','MSTATUS', 'SEX', 'EDUCATION', 'JOB', 'TRAVTIME',\r\n",
        "  'CAR_USE', 'BLUEBOOK', 'TIF', 'CAR_TYPE', 'RED_CAR', 'OLDCLAIM', 'CLM_FREQ',\r\n",
        "  'REVOKED', 'MVR_PTS', 'CAR_AGE', 'URBANICITY']]\r\n",
        "y_train_frame = train_dataset['TARGET_FLAG']\r\n",
        "\r\n",
        "X_valid_frame = test_dataset[['KIDSDRIV','AGE', 'HOMEKIDS', 'YOJ', 'INCOME',\r\n",
        "  'PARENT1', 'HOME_VAL','MSTATUS', 'SEX', 'EDUCATION', 'JOB', 'TRAVTIME',\r\n",
        "  'CAR_USE', 'BLUEBOOK', 'TIF', 'CAR_TYPE', 'RED_CAR', 'OLDCLAIM', 'CLM_FREQ',\r\n",
        "  'REVOKED', 'MVR_PTS', 'CAR_AGE', 'URBANICITY']]"
      ],
      "execution_count": 23,
      "outputs": []
    },
    {
      "cell_type": "markdown",
      "metadata": {
        "id": "4c-8dOcaXsHM"
      },
      "source": [
        "**Data Encoding**\r\n",
        "\r\n",
        "We choose to encode categorical data into one hot vector for multi-modal data\r\n",
        "to avoid learning an order between the classes. For binary features we choose an ordinal encoder.\r\n"
      ]
    },
    {
      "cell_type": "code",
      "metadata": {
        "id": "BuGLrYK4NiSD"
      },
      "source": [
        "# Now we need to convert nominal data to numerical we choose one hot encoding\r\n",
        "# for feature  with more than two modes and ordinal for 2 modes feature\r\n",
        "column_trans = make_column_transformer((OneHotEncoder(handle_unknown='error'),\r\n",
        "                                        ['EDUCATION', 'JOB', 'CAR_TYPE']),\r\n",
        "                                      (OrdinalEncoder(),\r\n",
        "                                       ['PARENT1', 'MSTATUS','SEX', 'CAR_USE',\r\n",
        "                                        'RED_CAR','REVOKED','URBANICITY' ]),\r\n",
        "                                       remainder = 'passthrough', )\r\n",
        "\r\n",
        "# We fit the transformation to the train set\r\n",
        "X_train = column_trans.fit_transform(X_train_frame)\r\n",
        "y_train = y_train_frame\r\n",
        "\r\n",
        "# The test set follows and it is transformed the same way\r\n",
        "X_valid = column_trans.transform(X_valid_frame)"
      ],
      "execution_count": 24,
      "outputs": []
    },
    {
      "cell_type": "code",
      "metadata": {
        "colab": {
          "base_uri": "https://localhost:8080/",
          "height": 334
        },
        "id": "GzGarehRETOs",
        "outputId": "294cf26e-fc53-4707-f589-777f08c74813"
      },
      "source": [
        "# Class balance is shown on the next graph we have a ratio of 1:3 which is \r\n",
        "# already an unmbalanced problem\r\n",
        "sns.countplot(train_dataset['TARGET_FLAG'], label=\"Sum\")\r\n",
        "plt.show()"
      ],
      "execution_count": null,
      "outputs": [
        {
          "output_type": "stream",
          "text": [
            "/usr/local/lib/python3.6/dist-packages/seaborn/_decorators.py:43: FutureWarning: Pass the following variable as a keyword arg: x. From version 0.12, the only valid positional argument will be `data`, and passing other arguments without an explicit keyword will result in an error or misinterpretation.\n",
            "  FutureWarning\n"
          ],
          "name": "stderr"
        },
        {
          "output_type": "display_data",
          "data": {
            "image/png": "[encoded data removed]",
            "text/plain": [
              "<Figure size 432x288 with 1 Axes>"
            ]
          },
          "metadata": {
            "tags": [],
            "needs_background": "light"
          }
        }
      ]
    },
    {
      "cell_type": "markdown",
      "metadata": {
        "id": "Ir86seYqC89w"
      },
      "source": [
        "# Models and pre-processing evaluation\r\n",
        "Starting from here we will use pipelines to test different configurations of pre-processing and models. \r\n",
        "All strategies will be evaluated with the same metrics."
      ]
    },
    {
      "cell_type": "code",
      "metadata": {
        "id": "2dXyTVRd0rZI"
      },
      "source": [
        "# Since we have less than 10k rows I choose to oversample to reduce the unbalancy\r\n",
        "# We can Random oversample\r\n",
        "\r\n",
        "# sampling_strategy=0.8 is purely arbitrary and might not be the best compromise\r\n",
        "ros = RandomOverSampler(sampling_strategy=0.8)\r\n",
        "\r\n",
        "# Or Smote\r\n",
        "smote = SMOTE()\r\n",
        "\r\n",
        "# Adiitionaly we can define a normalizer for data\r\n",
        "l2normalize = Normalizer(norm='l2')"
      ],
      "execution_count": 46,
      "outputs": []
    },
    {
      "cell_type": "markdown",
      "metadata": {
        "id": "D850MkkjacUj"
      },
      "source": [
        "We choose to use 9 classic models to evaluate them.\r\n",
        "\r\n",
        "We will use cross validation on 5 k-folds.\r\n",
        "\r\n",
        "We defined 3 metrics: 'accuracy',  'f1_weighted', 'roc_auc',\r\n",
        "\r\n",
        "Accuracy is not well suited for unbalanced dataset, that's why we use a weighted version of F1-score, furthermore roc_auc is a good metric for unbalanced datasets. \r\n",
        "\r\n",
        "That's why this metric will be our principal to choose models.\r\n",
        "\r\n",
        "\r\n",
        "\r\n",
        "\r\n"
      ]
    },
    {
      "cell_type": "code",
      "metadata": {
        "id": "2dDFAqxCwOZ7"
      },
      "source": [
        "# It is important to use this pipeline cause it can upsample data and also\r\n",
        "# it avoids to first  upsample the data and then divide into k-folds instead we:\r\n",
        "# split into training and validation folds. Then, \r\n",
        "  #1. Oversample the minority class\r\n",
        "  #2. Train the classifier on the training folds\r\n",
        "  #3. Validate the classifier on the remaining fold\r\n",
        "\r\n",
        "# Define k-folds strategy once for all\r\n",
        "kf = KFold(n_splits=5, shuffle=True)\r\n",
        "\r\n",
        "# Model that we choose to evaluate\r\n",
        "LR = LogisticRegression()\r\n",
        "dtree = DecisionTreeClassifier()\r\n",
        "SVM = SVC(probability = True)\r\n",
        "LDA = LinearDiscriminantAnalysis()\r\n",
        "QDA = QuadraticDiscriminantAnalysis()\r\n",
        "RF = RandomForestClassifier()\r\n",
        "KNN = KNeighborsClassifier()\r\n",
        "GB =  GradientBoostingClassifier()\r\n",
        "bayes = GaussianNB()\r\n",
        "\r\n",
        "# Defining metrics\r\n",
        "scoring = ['accuracy', 'f1_weighted', 'roc_auc']"
      ],
      "execution_count": 26,
      "outputs": []
    },
    {
      "cell_type": "code",
      "metadata": {
        "id": "TTKnxXRl5euj"
      },
      "source": [
        "# First we test all models with no normalization no upsampling and default params\r\n",
        "\r\n",
        "# Defining the executing function\r\n",
        "def CV_method(pipeline):\r\n",
        "  \"\"\" Takes a pipeline as input perform the cross validation with data and \r\n",
        "  parameters define above and return accuracy, f1_weighted and roc_auc metrics\r\n",
        "  (mean on each folds)\"\"\"\r\n",
        "\r\n",
        "  scores = cross_validate(pipeline, X_train, y_train, scoring=scoring, cv=kf)\r\n",
        "  sorted(scores.keys())\r\n",
        "  accuracy = scores['test_accuracy'].mean()\r\n",
        "  f1 = scores['test_f1_weighted'].mean()\r\n",
        "  roc = scores['test_roc_auc'].mean()\r\n",
        "  return accuracy, f1, roc\r\n",
        "\r\n",
        "# LR\r\n",
        "pipeline = Pipeline([('model', LR)])\r\n",
        "LR_accuracy, LR_f1, LR_roc = CV_method(pipeline)\r\n",
        "\r\n",
        "# Decision Tree\r\n",
        "pipeline = Pipeline([('model', dtree)])\r\n",
        "dtree_accuracy, dtree_f1, dtree_roc = CV_method(pipeline)\r\n",
        "\r\n",
        "# SVM\r\n",
        "pipeline = Pipeline([('model', SVM)])\r\n",
        "SVM_accuracy, SVM_f1, SVM_roc = CV_method(pipeline)\r\n",
        "\r\n",
        "# LDA\r\n",
        "pipeline = Pipeline([('model', LDA)])\r\n",
        "LDA_accuracy, \r\n",
        "LDA_f1, LDA_roc = CV_method(pipeline)\r\n",
        "\r\n",
        "# QDA\r\n",
        "pipeline = Pipeline([('model', QDA)])\r\n",
        "QDA_accuracy, QDA_f1, QDA_roc = CV_method(pipeline)\r\n",
        "\r\n",
        "# RF\r\n",
        "pipeline = Pipeline([('model', RF)])\r\n",
        "RF_accuracy, RF_f1, RF_roc = CV_method(pipeline)\r\n",
        "\r\n",
        "# KNN \r\n",
        "pipeline = Pipeline([('model', KNN)])\r\n",
        "KNN_accuracy, KNN_f1, KNN_roc = CV_method(pipeline)\r\n",
        "\r\n",
        "# GB\r\n",
        "pipeline = Pipeline([('model', GB)])\r\n",
        "GB_accuracy, GB_f1, GB_roc = CV_method(pipeline)\r\n",
        "\r\n",
        "# Bayes\r\n",
        "pipeline = Pipeline([('model', bayes)])\r\n",
        "bayes_accuracy, bayes_f1, bayes_roc = CV_method(pipeline)"
      ],
      "execution_count": null,
      "outputs": []
    },
    {
      "cell_type": "markdown",
      "metadata": {
        "id": "f3q6WTs8cLa1"
      },
      "source": [
        "# Baseline Results\r\n",
        "The table below gives us the baseline results that we will try to enhance."
      ]
    },
    {
      "cell_type": "code",
      "metadata": {
        "colab": {
          "base_uri": "https://localhost:8080/",
          "height": 328
        },
        "id": "p9HxQoWo8pyQ",
        "outputId": "1c170125-eb8e-4392-e202-aa55fe8b934d"
      },
      "source": [
        "# We can print the results on this table\r\n",
        "models_initial = pd.DataFrame({\r\n",
        "    'Model'       : ['Logistic Regression', 'Decision Tree', 'Support Vector Machine', 'Linear Discriminant Analysis', 'Quadratic Discriminant Analysis', 'Random Forest', 'K-Nearest Neighbors', 'GBoost', 'Bayes'],\r\n",
        "    'Accuracy'    : [LR_accuracy, dtree_accuracy, SVM_accuracy, LDA_accuracy, QDA_accuracy, RF_accuracy, KNN_accuracy, GB_accuracy, bayes_accuracy],\r\n",
        "    'F1_score'    : [LR_f1, dtree_f1, SVM_f1, LDA_f1, QDA_f1, RF_f1, KNN_f1, GB_f1, bayes_f1],\r\n",
        "    'AUC_ROC'     : [LR_roc, dtree_roc, SVM_roc, LDA_roc, QDA_roc, RF_roc, KNN_roc, GB_roc, bayes_roc],\r\n",
        "    }, columns = ['Model', 'Accuracy', 'F1_score', 'AUC_ROC'])\r\n",
        "\r\n",
        "models_initial.sort_values(by='AUC_ROC', ascending=False)"
      ],
      "execution_count": null,
      "outputs": [
        {
          "output_type": "execute_result",
          "data": {
            "text/html": [
              "<div>\n",
              "<style scoped>\n",
              "    .dataframe tbody tr th:only-of-type {\n",
              "        vertical-align: middle;\n",
              "    }\n",
              "\n",
              "    .dataframe tbody tr th {\n",
              "        vertical-align: top;\n",
              "    }\n",
              "\n",
              "    .dataframe thead th {\n",
              "        text-align: right;\n",
              "    }\n",
              "</style>\n",
              "<table border=\"1\" class=\"dataframe\">\n",
              "  <thead>\n",
              "    <tr style=\"text-align: right;\">\n",
              "      <th></th>\n",
              "      <th>Model</th>\n",
              "      <th>Accuracy</th>\n",
              "      <th>F1_score</th>\n",
              "      <th>AUC_ROC</th>\n",
              "    </tr>\n",
              "  </thead>\n",
              "  <tbody>\n",
              "    <tr>\n",
              "      <th>7</th>\n",
              "      <td>GBoost</td>\n",
              "      <td>0.793995</td>\n",
              "      <td>0.775505</td>\n",
              "      <td>0.821394</td>\n",
              "    </tr>\n",
              "    <tr>\n",
              "      <th>3</th>\n",
              "      <td>Linear Discriminant Analysis</td>\n",
              "      <td>0.785172</td>\n",
              "      <td>0.767100</td>\n",
              "      <td>0.805511</td>\n",
              "    </tr>\n",
              "    <tr>\n",
              "      <th>5</th>\n",
              "      <td>Random Forest</td>\n",
              "      <td>0.784191</td>\n",
              "      <td>0.759033</td>\n",
              "      <td>0.805424</td>\n",
              "    </tr>\n",
              "    <tr>\n",
              "      <th>8</th>\n",
              "      <td>Bayes</td>\n",
              "      <td>0.734926</td>\n",
              "      <td>0.744749</td>\n",
              "      <td>0.774640</td>\n",
              "    </tr>\n",
              "    <tr>\n",
              "      <th>0</th>\n",
              "      <td>Logistic Regression</td>\n",
              "      <td>0.763725</td>\n",
              "      <td>0.737920</td>\n",
              "      <td>0.767968</td>\n",
              "    </tr>\n",
              "    <tr>\n",
              "      <th>2</th>\n",
              "      <td>Support Vector Machine</td>\n",
              "      <td>0.735784</td>\n",
              "      <td>0.624446</td>\n",
              "      <td>0.737377</td>\n",
              "    </tr>\n",
              "    <tr>\n",
              "      <th>4</th>\n",
              "      <td>Quadratic Discriminant Analysis</td>\n",
              "      <td>0.660417</td>\n",
              "      <td>0.663085</td>\n",
              "      <td>0.705769</td>\n",
              "    </tr>\n",
              "    <tr>\n",
              "      <th>1</th>\n",
              "      <td>Decision Tree</td>\n",
              "      <td>0.703554</td>\n",
              "      <td>0.703987</td>\n",
              "      <td>0.619618</td>\n",
              "    </tr>\n",
              "    <tr>\n",
              "      <th>6</th>\n",
              "      <td>K-Nearest Neighbors</td>\n",
              "      <td>0.713358</td>\n",
              "      <td>0.677979</td>\n",
              "      <td>0.610190</td>\n",
              "    </tr>\n",
              "  </tbody>\n",
              "</table>\n",
              "</div>"
            ],
            "text/plain": [
              "                             Model  Accuracy  F1_score   AUC_ROC\n",
              "7                           GBoost  0.793995  0.775505  0.821394\n",
              "3     Linear Discriminant Analysis  0.785172  0.767100  0.805511\n",
              "5                    Random Forest  0.784191  0.759033  0.805424\n",
              "8                            Bayes  0.734926  0.744749  0.774640\n",
              "0              Logistic Regression  0.763725  0.737920  0.767968\n",
              "2           Support Vector Machine  0.735784  0.624446  0.737377\n",
              "4  Quadratic Discriminant Analysis  0.660417  0.663085  0.705769\n",
              "1                    Decision Tree  0.703554  0.703987  0.619618\n",
              "6              K-Nearest Neighbors  0.713358  0.677979  0.610190"
            ]
          },
          "metadata": {
            "tags": []
          },
          "execution_count": 19
        }
      ]
    },
    {
      "cell_type": "markdown",
      "metadata": {
        "id": "sa957_KXciy7"
      },
      "source": [
        "# We will perform Grid Searching for the best parameters. \r\n",
        "The grid searching will focus on two parts, first when it's possible we will tweak the class_weight parameters because it is a key factor of our problem.\r\n",
        "Then we will tweak classical parameters of each method.\r\n"
      ]
    },
    {
      "cell_type": "code",
      "metadata": {
        "id": "NyYS0DGcmR69"
      },
      "source": [
        "# Now that we have a baseline we can try grid searching better parameters\r\n",
        "def Grid_search_method(pipeline, params):\r\n",
        "  \"\"\" Takes a pipeline and parameters to perform a grid search then return\r\n",
        "  the best parameters (for roc_auc metric) and their score \"\"\"\r\n",
        "\r\n",
        "  new_params = {'model__' + key: params[key] for key in params}\r\n",
        "  grid = GridSearchCV(pipeline, param_grid=new_params, cv=kf, scoring=scoring,\r\n",
        "                        refit='roc_auc', return_train_score=True)\r\n",
        "  grid.fit(X_train, y_train)\r\n",
        "  return grid.best_params_, grid.best_score_\r\n",
        "\r\n",
        "# We have an unbalanced problem so giving weight to class is a good idea.\r\n",
        "# The grid searchs below aims to test different values of this strategy with\r\n",
        "# classical tuning of hyperparameters of each method.\r\n",
        "# We do not focus on regularization because we have almost 10k rows for \r\n",
        "# 40 one encoded features\r\n",
        "pipeline = Pipeline([('model', LR)])\r\n",
        "params = {'class_weight': [None, 'balanced', {0: 0.5, 1: 1},  {0: 0.8, 1: 0.5, 0: 0.3}], 'solver' : ['newton-cg', 'lbfgs', 'liblinear'], 'max_iter': [300]}\r\n",
        "LRbest_params_, LRbest_score_  = Grid_search_method(pipeline, params)\r\n",
        "\r\n",
        "# Again class weight is the main focus with some of the method key hyperparams\r\n",
        "pipeline = Pipeline([('model', dtree)])\r\n",
        "params = {'class_weight': [None, 'balanced', {0: 0.5, 1: 1}, {0: 0.8, 1: 0.5, 0: 0.3}], 'criterion': ['gini','entropy'], 'max_depth': [3, 5, 7, 9, 13, 15]}\r\n",
        "dtreebest_params_, dtreebest_score_ = Grid_search_method(pipeline, params)\r\n",
        "\r\n",
        "# Again class weight is the main focus with some of the method key hyperparams\r\n",
        "pipeline = Pipeline([('model', SVM)])\r\n",
        "params = {'class_weight': [None, 'balanced', {0: 0.5, 1: 1}, {0: 0.8, 1: 0.5, 0: 0.3}], 'kernel': ['linear', 'poly', 'rbf', 'sigmoid'], 'degree': [2, 3, 4, 5]}\r\n",
        "SVMbest_params_, SVMbest_score_ = Grid_search_method(pipeline, params)\r\n",
        "\r\n",
        "# in LDA priors parameter : \r\n",
        "# The class prior probabilities. By default, the class proportions are inferred \r\n",
        "# from the training data\r\n",
        "# this mean by default this method takes into account class distribution,\r\n",
        "# this might explain the good performance of the model on the baseline above\r\n",
        "# We will only play on solver and shrinkage\r\n",
        "pipeline = Pipeline([('model', LDA)])\r\n",
        "params = {'solver': ['svd', 'lsqr', 'eigen'], 'shrinkage': ['auto', None] }\r\n",
        "LDAbest_params_, LDAbest_score_ = Grid_search_method(pipeline, params)\r\n",
        "\r\n",
        "# Same as LDA except for the good performance..\r\n",
        "pipeline = Pipeline([('model', QDA)])\r\n",
        "params = {'reg_param': [0, 1, 2, 3]}\r\n",
        "QDAbest_params_, QDAbest_score_ = Grid_search_method(pipeline, params)\r\n",
        "\r\n",
        "# Again class weight is the main focus with some of the method key hyperparams\r\n",
        "pipeline = Pipeline([('model', RF)])\r\n",
        "params = {'class_weight': [None, 'balanced', 'balanced_subsample', {0: 0.5, 1: 1}, {0: 0.8, 1: 0.5, 0: 0.3}], 'n_estimators': [100, 200, 300], 'criterion': ['gini', 'entropy']}\r\n",
        "RFbest_params_, RFbest_score_ = Grid_search_method(pipeline, params)\r\n",
        "\r\n",
        "# No class weight available, so tweaking hyparams\r\n",
        "pipeline = Pipeline([('model', KNN)])\r\n",
        "params = {'n_neighbors': [2, 3, 4, 5, 6], 'weights': ['uniform', 'distance']}\r\n",
        "KNNbest_params_, KNNbest_score_ = Grid_search_method(pipeline, params) \r\n",
        "\r\n",
        "# We are going a bit deeper on this parameter search because it is our best model\r\n",
        "# so far so worst investing commputing time\r\n",
        "pipeline = Pipeline([('model', GB)])\r\n",
        "params = {'loss': ['deviance', 'exponential'], 'learning_rate': [0.05, 0.1, 0.2], 'n_estimators' : [100, 200, 400, 600], 'criterion': ['friedman_mse', 'mse', 'mae']}\r\n",
        "GBbest_params_, GBbest_score_ = Grid_search_method(pipeline, params)\r\n",
        "\r\n",
        "pipeline = Pipeline([('model',  bayes)])\r\n",
        "params = {}\r\n",
        "bayesbest_params_, bayesbest_score_ = Grid_search_method(pipeline, params)"
      ],
      "execution_count": null,
      "outputs": []
    },
    {
      "cell_type": "markdown",
      "metadata": {
        "id": "0aILeJAsdQwK"
      },
      "source": [
        "# Grid Searching results :\r\n",
        "Because some grid searchig took too long we drop some of the calculations (result of 0 in the table), however none of the models outperformed default parameters of Gradient boosting method. and the other model dropped were not in the top 3.."
      ]
    },
    {
      "cell_type": "code",
      "metadata": {
        "id": "jZ9b65Suivl1"
      },
      "source": [
        "SVMbest_score_ = 0\r\n",
        "GBbest_score_ = 0\r\n",
        "QDAbest_score_ = 0"
      ],
      "execution_count": 10,
      "outputs": []
    },
    {
      "cell_type": "code",
      "metadata": {
        "id": "lGsJryGy-zfv",
        "colab": {
          "base_uri": "https://localhost:8080/",
          "height": 314
        },
        "outputId": "4e3f7c7a-e9bd-47da-ddc2-b7c733e00366"
      },
      "source": [
        "grid_search_wout_oversample_wout_normalize = pd.DataFrame({\r\n",
        "    'Model'       : ['Logistic Regression', 'Decision Tree', 'Support Vector Machine', 'Linear Discriminant Analysis', 'Quadratic Discriminant Analysis', 'Random Forest', 'K-Nearest Neighbors', 'GBoost', 'Bayes'],\r\n",
        "    'AUC_ROC'     : [LRbest_score_, dtreebest_score_, SVMbest_score_, LDAbest_score_, QDAbest_score_, RFbest_score_, KNNbest_score_, GBbest_score_, bayesbest_score_],\r\n",
        "    }, columns = ['Model', 'AUC_ROC'])\r\n",
        "grid_search_wout_oversample_wout_normalize.sort_values(by='AUC_ROC', ascending=False)"
      ],
      "execution_count": 11,
      "outputs": [
        {
          "output_type": "execute_result",
          "data": {
            "text/html": [
              "<div>\n",
              "<style scoped>\n",
              "    .dataframe tbody tr th:only-of-type {\n",
              "        vertical-align: middle;\n",
              "    }\n",
              "\n",
              "    .dataframe tbody tr th {\n",
              "        vertical-align: top;\n",
              "    }\n",
              "\n",
              "    .dataframe thead th {\n",
              "        text-align: right;\n",
              "    }\n",
              "</style>\n",
              "<table border=\"1\" class=\"dataframe\">\n",
              "  <thead>\n",
              "    <tr style=\"text-align: right;\">\n",
              "      <th></th>\n",
              "      <th>Model</th>\n",
              "      <th>AUC_ROC</th>\n",
              "    </tr>\n",
              "  </thead>\n",
              "  <tbody>\n",
              "    <tr>\n",
              "      <th>5</th>\n",
              "      <td>Random Forest</td>\n",
              "      <td>0.814634</td>\n",
              "    </tr>\n",
              "    <tr>\n",
              "      <th>0</th>\n",
              "      <td>Logistic Regression</td>\n",
              "      <td>0.805863</td>\n",
              "    </tr>\n",
              "    <tr>\n",
              "      <th>3</th>\n",
              "      <td>Linear Discriminant Analysis</td>\n",
              "      <td>0.803493</td>\n",
              "    </tr>\n",
              "    <tr>\n",
              "      <th>8</th>\n",
              "      <td>Bayes</td>\n",
              "      <td>0.774640</td>\n",
              "    </tr>\n",
              "    <tr>\n",
              "      <th>1</th>\n",
              "      <td>Decision Tree</td>\n",
              "      <td>0.744547</td>\n",
              "    </tr>\n",
              "    <tr>\n",
              "      <th>6</th>\n",
              "      <td>K-Nearest Neighbors</td>\n",
              "      <td>0.621600</td>\n",
              "    </tr>\n",
              "    <tr>\n",
              "      <th>2</th>\n",
              "      <td>Support Vector Machine</td>\n",
              "      <td>0.000000</td>\n",
              "    </tr>\n",
              "    <tr>\n",
              "      <th>4</th>\n",
              "      <td>Quadratic Discriminant Analysis</td>\n",
              "      <td>0.000000</td>\n",
              "    </tr>\n",
              "    <tr>\n",
              "      <th>7</th>\n",
              "      <td>GBoost</td>\n",
              "      <td>0.000000</td>\n",
              "    </tr>\n",
              "  </tbody>\n",
              "</table>\n",
              "</div>"
            ],
            "text/plain": [
              "                             Model   AUC_ROC\n",
              "5                    Random Forest  0.814634\n",
              "0              Logistic Regression  0.805863\n",
              "3     Linear Discriminant Analysis  0.803493\n",
              "8                            Bayes  0.774640\n",
              "1                    Decision Tree  0.744547\n",
              "6              K-Nearest Neighbors  0.621600\n",
              "2           Support Vector Machine  0.000000\n",
              "4  Quadratic Discriminant Analysis  0.000000\n",
              "7                           GBoost  0.000000"
            ]
          },
          "metadata": {
            "tags": []
          },
          "execution_count": 11
        }
      ]
    },
    {
      "cell_type": "markdown",
      "metadata": {
        "id": "wCUhgPc8dvbL"
      },
      "source": [
        "We can now do the same with oversampling and/or normalization.\r\n",
        "\r\n",
        "Since the previous calculations was computationally expensive, we will focus only on the 3 best models so far plus Gboost which was not computed on the previous step.\r\n",
        "\r\n",
        "We might drop a good candidate, but we must make choices.\r\n",
        "\r\n",
        "We will grid search onlyo on class_weight since it is strongly linked with oversampling.\r\n",
        "\r\n",
        "For the other parameters we will use the best parameters that we found above.\r\n",
        "\r\n",
        "Again we might not consider the best solution but we will save computation time.\r\n",
        "\r\n"
      ]
    },
    {
      "cell_type": "code",
      "metadata": {
        "id": "ISCfQCHuZ0WN"
      },
      "source": [
        "# We can apply our preprocessing  to see the results variations\r\n",
        "\r\n",
        "# With SMOTE and normalize\r\n",
        "#LR\r\n",
        "pipeline = Pipeline([('upsampler', smote), ('normalizer',l2normalize), ('model', LR)])\r\n",
        "params ={'class_weight': [None, 'balanced', 'balanced_subsample', {0: 0.5, 1: 1}, {0: 0.8, 1: 0.5, 0: 0.3}], 'max_iter': [300] , 'solver': ['liblinear']}\r\n",
        "LR_best_params_SN, LR_roc_SN = Grid_search_method(pipeline, params)\r\n",
        "\r\n",
        "# LDA\r\n",
        "pipeline = Pipeline([('upsampler', smote), ('normalizer',l2normalize), ('model', LDA)])\r\n",
        "params = {'shrinkage': [None], 'solver': ['lsqr']}\r\n",
        "LDA_best_params_SN, LDA_roc_SN = Grid_search_method(pipeline, params)\r\n",
        "\r\n",
        "# RF\r\n",
        "pipeline = Pipeline([('upsampler', smote), ('normalizer',l2normalize), ('model', RF)])\r\n",
        "params = {'class_weight': [None, 'balanced', 'balanced_subsample', {0: 0.5, 1: 1}, {0: 0.8, 1: 0.5, 0: 0.3}], 'criterion': ['entropy'], 'n_estimators': [300]}\r\n",
        "RF_best_params_SN, RF_roc_SN = Grid_search_method(pipeline, params)\r\n",
        "\r\n",
        "# GB\r\n",
        "pipeline = Pipeline([('upsampler', smote), ('normalizer',l2normalize), ('model', GB)])\r\n",
        "params = { }\r\n",
        "GB_best_params_SN, GB_roc_SN = Grid_search_method(pipeline, params)\r\n",
        "\r\n",
        "\r\n",
        "# With SMOTE only\r\n",
        "#LR\r\n",
        "pipeline = Pipeline([('upsampler', smote), ('model', LR)])\r\n",
        "params ={'class_weight': [None, 'balanced', 'balanced_subsample', {0: 0.5, 1: 1}, {0: 0.8, 1: 0.5, 0: 0.3}], 'max_iter': [300] , 'solver': ['liblinear']}\r\n",
        "LR_best_params_S, LR_roc_S = Grid_search_method(pipeline, params)\r\n",
        "\r\n",
        "# LDA\r\n",
        "pipeline = Pipeline([('upsampler', smote), ('model', LDA)])\r\n",
        "params = {'shrinkage': [None], 'solver': ['lsqr']}\r\n",
        "LDA_best_params_S, LDA_roc_S = Grid_search_method(pipeline, params)\r\n",
        "\r\n",
        "# RF\r\n",
        "pipeline = Pipeline([('upsampler', smote), ('model', RF)])\r\n",
        "params = {'class_weight': [None, 'balanced', 'balanced_subsample', {0: 0.5, 1: 1}, {0: 0.8, 1: 0.5, 0: 0.3}], 'criterion': ['entropy'], 'n_estimators': [300]}\r\n",
        "RF_best_params_S, RF_roc_S = Grid_search_method(pipeline, params)\r\n",
        "\r\n",
        "# GB\r\n",
        "pipeline = Pipeline([('upsampler', smote), ('model', GB)])\r\n",
        "params = { }\r\n",
        "GB_best_params_SN, GB_roc_S = Grid_search_method(pipeline, params)\r\n",
        "\r\n",
        "\r\n",
        "# With normalize only\r\n",
        "#LR\r\n",
        "pipeline = Pipeline([('normalizer',l2normalize), ('model', LR)])\r\n",
        "params ={'class_weight': [None, 'balanced', 'balanced_subsample', {0: 0.5, 1: 1}, {0: 0.8, 1: 0.5, 0: 0.3}], 'max_iter': [300] , 'solver': ['liblinear']}\r\n",
        "LR_best_params_N, LR_roc_N = Grid_search_method(pipeline, params)\r\n",
        "\r\n",
        "# LDA\r\n",
        "pipeline = Pipeline([('normalizer',l2normalize), ('model', LDA)])\r\n",
        "params = {'shrinkage': [None], 'solver': ['lsqr']}\r\n",
        "LDA_best_params_N, LDA_roc_N = Grid_search_method(pipeline, params)\r\n",
        "\r\n",
        "# RF\r\n",
        "pipeline = Pipeline([('normalizer',l2normalize), ('model', RF)])\r\n",
        "params = {'class_weight': [None, 'balanced', 'balanced_subsample', {0: 0.5, 1: 1}, {0: 0.8, 1: 0.5, 0: 0.3}], 'criterion': ['entropy'], 'n_estimators': [300]}\r\n",
        "RF_best_params_N, RF_roc_N = Grid_search_method(pipeline, params)\r\n",
        "\r\n",
        "# GB\r\n",
        "pipeline = Pipeline([('normalizer',l2normalize), ('model', GB)])\r\n",
        "params = { }\r\n",
        "GB_best_params_N, GB_roc_N = Grid_search_method(pipeline, params)\r\n",
        "\r\n",
        "# Random oversampling alone to compare to smote oversampling alone\r\n",
        "#LR\r\n",
        "pipeline = Pipeline([('upsampler', ros), ('model', LR)])\r\n",
        "params ={'class_weight': [None, 'balanced', 'balanced_subsample', {0: 0.5, 1: 1}, {0: 0.8, 1: 0.5, 0: 0.3}], 'max_iter': [300] , 'solver': ['liblinear']}\r\n",
        "LR_best_params_R, LR_roc_R = Grid_search_method(pipeline, params)\r\n",
        "\r\n",
        "#LDA\r\n",
        "pipeline = Pipeline([('upsampler', ros), ('model', LDA)])\r\n",
        "params = {'shrinkage': [None], 'solver': ['lsqr']}\r\n",
        "LDA_best_params_R, LDA_roc_R = Grid_search_method(pipeline, params)\r\n",
        "\r\n",
        "# RF\r\n",
        "pipeline = Pipeline([('upsampler', ros), ('model', RF)])\r\n",
        "params = {'class_weight': [None, 'balanced', 'balanced_subsample', {0: 0.5, 1: 1}, {0: 0.8, 1: 0.5, 0: 0.3}], 'criterion': ['entropy'], 'n_estimators': [300]}\r\n",
        "RF_best_params_R, RF_roc_R = Grid_search_method(pipeline, params)\r\n",
        "\r\n",
        "# GB\r\n",
        "pipeline = Pipeline([('upsampler', ros), ('model', GB)])\r\n",
        "params = { }\r\n",
        "GB_best_params_R, GB_roc_R = Grid_search_method(pipeline, params)"
      ],
      "execution_count": null,
      "outputs": []
    },
    {
      "cell_type": "markdown",
      "metadata": {
        "id": "D0n1VLLV2wMW"
      },
      "source": [
        "# Final results \r\n",
        "Final results are listed below, the best model will be used to make the predictions and write the output csv file."
      ]
    },
    {
      "cell_type": "code",
      "metadata": {
        "id": "lDRmwUweee0K",
        "colab": {
          "base_uri": "https://localhost:8080/",
          "height": 639
        },
        "outputId": "e861fee1-34c3-4294-b98a-1c556cb926f5"
      },
      "source": [
        "Final_results = pd.DataFrame({\r\n",
        "    'Model'       : [ 'Linear Discriminant Analysis', 'Random Forest','GBoost', 'LR',\r\n",
        "                      'Linear Discriminant Analysis + SMOTE + Norm', 'Random Forest + SMOTE + Norm', 'GBoost + SMOTE + Norm','LR + SMOTE + Norm',\r\n",
        "                      'Linear Discriminant Analysis + SMOTE', 'Random Forest + SMOTE','GBoost + SMOTE', 'LR + SMOTE',\r\n",
        "                      'Linear Discriminant Analysis + Norm', 'Random Forest + Norm','GBoost + Norm', 'LR + Norm', \r\n",
        "                      'Linear Discriminant Analysis + RandomOS', 'Random Forest + RandomOS','GBoost + RandomOS', 'LR + RandomOS' ],\r\n",
        "    'AUC_ROC'     : [LDAbest_score_, RFbest_score_, GBbest_score_, LRbest_score_,\r\n",
        "                     LDA_roc_SN, RF_roc_SN, GB_roc_SN, LR_roc_SN,\r\n",
        "                     LDA_roc_S, RF_roc_S, GB_roc_S, LR_roc_S,\r\n",
        "                     LDA_roc_N, RF_roc_N, GB_roc_N, LR_roc_N,\r\n",
        "                     LDA_roc_R, RF_roc_R, GB_roc_R, LR_roc_R],\r\n",
        "    }, columns = ['Model', 'AUC_ROC'])\r\n",
        "Final_results.sort_values(by='AUC_ROC', ascending=False)"
      ],
      "execution_count": 52,
      "outputs": [
        {
          "output_type": "execute_result",
          "data": {
            "text/html": [
              "<div>\n",
              "<style scoped>\n",
              "    .dataframe tbody tr th:only-of-type {\n",
              "        vertical-align: middle;\n",
              "    }\n",
              "\n",
              "    .dataframe tbody tr th {\n",
              "        vertical-align: top;\n",
              "    }\n",
              "\n",
              "    .dataframe thead th {\n",
              "        text-align: right;\n",
              "    }\n",
              "</style>\n",
              "<table border=\"1\" class=\"dataframe\">\n",
              "  <thead>\n",
              "    <tr style=\"text-align: right;\">\n",
              "      <th></th>\n",
              "      <th>Model</th>\n",
              "      <th>AUC_ROC</th>\n",
              "    </tr>\n",
              "  </thead>\n",
              "  <tbody>\n",
              "    <tr>\n",
              "      <th>18</th>\n",
              "      <td>GBoost + RandomOS</td>\n",
              "      <td>0.818452</td>\n",
              "    </tr>\n",
              "    <tr>\n",
              "      <th>10</th>\n",
              "      <td>GBoost + SMOTE</td>\n",
              "      <td>0.818164</td>\n",
              "    </tr>\n",
              "    <tr>\n",
              "      <th>1</th>\n",
              "      <td>Random Forest</td>\n",
              "      <td>0.814634</td>\n",
              "    </tr>\n",
              "    <tr>\n",
              "      <th>9</th>\n",
              "      <td>Random Forest + SMOTE</td>\n",
              "      <td>0.811449</td>\n",
              "    </tr>\n",
              "    <tr>\n",
              "      <th>17</th>\n",
              "      <td>Random Forest + RandomOS</td>\n",
              "      <td>0.810982</td>\n",
              "    </tr>\n",
              "    <tr>\n",
              "      <th>14</th>\n",
              "      <td>GBoost + Norm</td>\n",
              "      <td>0.807174</td>\n",
              "    </tr>\n",
              "    <tr>\n",
              "      <th>16</th>\n",
              "      <td>Linear Discriminant Analysis + RandomOS</td>\n",
              "      <td>0.806887</td>\n",
              "    </tr>\n",
              "    <tr>\n",
              "      <th>8</th>\n",
              "      <td>Linear Discriminant Analysis + SMOTE</td>\n",
              "      <td>0.806536</td>\n",
              "    </tr>\n",
              "    <tr>\n",
              "      <th>3</th>\n",
              "      <td>LR</td>\n",
              "      <td>0.805863</td>\n",
              "    </tr>\n",
              "    <tr>\n",
              "      <th>19</th>\n",
              "      <td>LR + RandomOS</td>\n",
              "      <td>0.805549</td>\n",
              "    </tr>\n",
              "    <tr>\n",
              "      <th>11</th>\n",
              "      <td>LR + SMOTE</td>\n",
              "      <td>0.805077</td>\n",
              "    </tr>\n",
              "    <tr>\n",
              "      <th>0</th>\n",
              "      <td>Linear Discriminant Analysis</td>\n",
              "      <td>0.803493</td>\n",
              "    </tr>\n",
              "    <tr>\n",
              "      <th>13</th>\n",
              "      <td>Random Forest + Norm</td>\n",
              "      <td>0.801257</td>\n",
              "    </tr>\n",
              "    <tr>\n",
              "      <th>6</th>\n",
              "      <td>GBoost + SMOTE + Norm</td>\n",
              "      <td>0.797737</td>\n",
              "    </tr>\n",
              "    <tr>\n",
              "      <th>12</th>\n",
              "      <td>Linear Discriminant Analysis + Norm</td>\n",
              "      <td>0.792161</td>\n",
              "    </tr>\n",
              "    <tr>\n",
              "      <th>5</th>\n",
              "      <td>Random Forest + SMOTE + Norm</td>\n",
              "      <td>0.791299</td>\n",
              "    </tr>\n",
              "    <tr>\n",
              "      <th>4</th>\n",
              "      <td>Linear Discriminant Analysis + SMOTE + Norm</td>\n",
              "      <td>0.789978</td>\n",
              "    </tr>\n",
              "    <tr>\n",
              "      <th>7</th>\n",
              "      <td>LR + SMOTE + Norm</td>\n",
              "      <td>0.688982</td>\n",
              "    </tr>\n",
              "    <tr>\n",
              "      <th>15</th>\n",
              "      <td>LR + Norm</td>\n",
              "      <td>0.683359</td>\n",
              "    </tr>\n",
              "    <tr>\n",
              "      <th>2</th>\n",
              "      <td>GBoost</td>\n",
              "      <td>0.000000</td>\n",
              "    </tr>\n",
              "  </tbody>\n",
              "</table>\n",
              "</div>"
            ],
            "text/plain": [
              "                                          Model   AUC_ROC\n",
              "18                            GBoost + RandomOS  0.818452\n",
              "10                               GBoost + SMOTE  0.818164\n",
              "1                                 Random Forest  0.814634\n",
              "9                         Random Forest + SMOTE  0.811449\n",
              "17                     Random Forest + RandomOS  0.810982\n",
              "14                                GBoost + Norm  0.807174\n",
              "16      Linear Discriminant Analysis + RandomOS  0.806887\n",
              "8          Linear Discriminant Analysis + SMOTE  0.806536\n",
              "3                                            LR  0.805863\n",
              "19                                LR + RandomOS  0.805549\n",
              "11                                   LR + SMOTE  0.805077\n",
              "0                  Linear Discriminant Analysis  0.803493\n",
              "13                         Random Forest + Norm  0.801257\n",
              "6                         GBoost + SMOTE + Norm  0.797737\n",
              "12          Linear Discriminant Analysis + Norm  0.792161\n",
              "5                  Random Forest + SMOTE + Norm  0.791299\n",
              "4   Linear Discriminant Analysis + SMOTE + Norm  0.789978\n",
              "7                             LR + SMOTE + Norm  0.688982\n",
              "15                                    LR + Norm  0.683359\n",
              "2                                        GBoost  0.000000"
            ]
          },
          "metadata": {
            "tags": []
          },
          "execution_count": 52
        }
      ]
    },
    {
      "cell_type": "markdown",
      "metadata": {
        "id": "Mwzh4Z-MikH4"
      },
      "source": [
        "Finally none of the strategy has beaten the clasic Gradient boosting so we will use this to make predictions and write the file."
      ]
    },
    {
      "cell_type": "code",
      "metadata": {
        "colab": {
          "base_uri": "https://localhost:8080/"
        },
        "id": "QZoKtmdukV4F",
        "outputId": "fc1962b0-718d-4ea6-a4b8-53940bdd7e71"
      },
      "source": [
        "pipeline = Pipeline([('model', GB)])\r\n",
        "params = { }\r\n",
        "GB_best_params_, GB_roc_ = Grid_search_method(pipeline, params)\r\n",
        "print(GB_roc_)"
      ],
      "execution_count": 59,
      "outputs": [
        {
          "output_type": "stream",
          "text": [
            "0.8200631760355156\n"
          ],
          "name": "stdout"
        }
      ]
    },
    {
      "cell_type": "code",
      "metadata": {
        "id": "Mc9VKS-Tlk0S"
      },
      "source": [
        "# We finally use our best solution to write predictions\r\n",
        "GB.fit(X_train, y_train)\r\n",
        "y_valid = GB.predict(X_valid)\r\n",
        "\r\n",
        "a = np.asarray(y_valid)\r\n",
        "np.savetxt(\"/content/drive/My Drive/test_descartes/predictions.csv\", a, delimiter=\",\")"
      ],
      "execution_count": 57,
      "outputs": []
    },
    {
      "cell_type": "markdown",
      "metadata": {
        "id": "_vkyRnHIeyKb"
      },
      "source": [
        "# THE END\r\n",
        "this is the end of this exercise, the predicted file can be found at:\r\n",
        "https://github.com/floriancal/test_descartes_underwriting.git\r\n",
        "\r\n",
        "Of course, the results can be enhanced. We might try to do dimensionality reduction because we generated almost 40 columns. It might simplify the models learning and will reduce computation time.\r\n",
        "\r\n",
        "Furthermore, we might try combining our models with voting classifiers for example.\r\n",
        "\r\n",
        "Thanks for reading my work, have a nice day :)"
      ]
    }
  ]
}
